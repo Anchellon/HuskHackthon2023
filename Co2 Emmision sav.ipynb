{
 "cells": [
  {
   "cell_type": "code",
   "execution_count": 1,
   "id": "84ae9d17",
   "metadata": {},
   "outputs": [],
   "source": [
    "import numpy as np\n",
    "from sklearn.cluster import DBSCAN\n",
    "from sklearn import metrics\n",
    "\n",
    "import pandas as pd"
   ]
  },
  {
   "cell_type": "code",
   "execution_count": 2,
   "id": "2fe4704b",
   "metadata": {},
   "outputs": [],
   "source": [
    "df = pd.read_csv(\"../../AIS_2022_01_01/AIS_2022_01_01.csv\")"
   ]
  },
  {
   "cell_type": "code",
   "execution_count": 3,
   "id": "9e15882d",
   "metadata": {},
   "outputs": [
    {
     "name": "stdout",
     "output_type": "stream",
     "text": [
      "        MMSI         BaseDateTime       LAT       LON  SOG    COG  Heading  \\\n",
      "0  368084090  2022-01-01T00:00:00  29.93174 -89.99243  6.0  296.2    299.0   \n",
      "1  368140160  2022-01-01T00:00:00  30.33475 -87.14429  0.0  312.0     87.0   \n",
      "2  366941830  2022-01-01T00:00:02  29.30919 -94.79702  0.0  180.2    511.0   \n",
      "3  316005971  2022-01-01T00:00:06  46.50268 -84.35674  2.4  258.6    257.0   \n",
      "4  316004054  2022-01-01T00:00:07  46.50326 -84.37506  0.3   61.9    511.0   \n",
      "\n",
      "        VesselName         IMO CallSign  VesselType  Status  Length  Width  \\\n",
      "0  LARRY B WHIPPLE         NaN  WDK7401        57.0    12.0    23.0   10.0   \n",
      "1    TWISTED ANGEL  IMO0000000  WDL5339        36.0     NaN    12.0    7.0   \n",
      "2     SAN PATRICIO         NaN  WCX6675        31.0     5.0    18.0    7.0   \n",
      "3      BEVERLY M I  IMO9084047  CFP2004        31.0     0.0    34.0   10.0   \n",
      "4       ADANAC III  IMO8745333     VCLT        31.0     0.0    24.0    5.0   \n",
      "\n",
      "   Draft  Cargo TransceiverClass  \n",
      "0    3.0   57.0                A  \n",
      "1    NaN    NaN                B  \n",
      "2    NaN   57.0                A  \n",
      "3    5.3   99.0                A  \n",
      "4    3.0   50.0                A  \n"
     ]
    }
   ],
   "source": [
    "print(df.head())"
   ]
  },
  {
   "cell_type": "code",
   "execution_count": 23,
   "id": "cb3cbade",
   "metadata": {},
   "outputs": [],
   "source": [
    "\n",
    "X =df[[\"LAT\",\"LON\"]]\n",
    "X = X[:500000]"
   ]
  },
  {
   "cell_type": "code",
   "execution_count": 24,
   "id": "e25843e5",
   "metadata": {},
   "outputs": [],
   "source": [
    "db = DBSCAN(eps=0.3, min_samples=10).fit(X)\n",
    "labels = db.labels_\n",
    "\n",
    "# Number of clusters in labels, ignoring noise if present.\n",
    "n_clusters_ = len(set(labels)) - (1 if -1 in labels else 0)\n",
    "n_noise_ = list(labels).count(-1)\n",
    "\n",
    "print(\"Estimated number of clusters: %d\" % n_clusters_)\n",
    "print(\"Estimated number of noise points: %d\" % n_noise_)"
   ]
  },
  {
   "cell_type": "code",
   "execution_count": 25,
   "id": "2afd89b9",
   "metadata": {},
   "outputs": [
    {
     "name": "stdout",
     "output_type": "stream",
     "text": [
      "Collecting pulp\n",
      "  Downloading PuLP-2.7.0-py3-none-any.whl (14.3 MB)\n",
      "     --------------------------------------- 14.3/14.3 MB 24.2 MB/s eta 0:00:00\n",
      "Installing collected packages: pulp\n",
      "Successfully installed pulp-2.7.0\n"
     ]
    }
   ],
   "source": [
    "\n",
    "# !pip install pulp"
   ]
  },
  {
   "cell_type": "code",
   "execution_count": 28,
   "id": "6975db5c",
   "metadata": {},
   "outputs": [],
   "source": [
    "from pulp import *"
   ]
  },
  {
   "cell_type": "code",
   "execution_count": 29,
   "id": "ae3576a7",
   "metadata": {},
   "outputs": [],
   "source": [
    "# Programming the linear model\n",
    "model = LpProblem(\"Co2Problem\", LpMaximize)"
   ]
  },
  {
   "cell_type": "code",
   "execution_count": 30,
   "id": "01a54e50",
   "metadata": {},
   "outputs": [],
   "source": [
    "U_i_j = LpVariable(\"IfStuffToTransfer\", 0, None, LpInteger)\n",
    "Vol_i_j = LpVariable(\"VolumeOfTrade\", 0, None, LpInteger) \n",
    "F_i_j = LpVariable(\"ContainerServiceCost\", 0, None, LpInteger) #\n",
    "F_z = LpVariable(\"ContainerHandlingCharges\", 0, None, LpInteger) # 1d array\n",
    "X_i_j = LpVariable(\"ContainerServiceCost\", 0, None, LpInteger) # 2d array\n",
    "E = LpVariable(\"FuelPrice\", 0, None, LpInteger)\n",
    "D = LpVariable(\"CarbonCreditMoneySavings\", 0, None, LpInteger)\n",
    "dis_i_j = LpVariable(\"DistanceBetween2ports\", 0, None, LpInteger)\n",
    "k = LpVariable(\"ShipConst\", 0, None, LpInteger) #  per ship calculate \n",
    "v = LpVariable(\"SpeedOfShip\", 0, None, LpInteger)\n",
    "T = LpVariable(\"PortSurcharge\", 0, None, LpInteger)\n",
    "theta = LpVariable(\"PortSkipPenalty\", 0, None, LpInteger) # 2d array\n",
    "de_i_j = LpVariable(\"ActualDemandOfTrade\", 0, None, LpInteger) # 2d array\n",
    "V_z = LpVariable(\"ContainerHandlingSpeed\", 0, None, LpInteger) # 1d Array\n",
    "F_s =  LpVariable(\"TerminalCharge\", 0, None, LpInteger) # 1d array\n"
   ]
  },
  {
   "cell_type": "code",
   "execution_count": 35,
   "id": "33ec014d",
   "metadata": {},
   "outputs": [
    {
     "ename": "TypeError",
     "evalue": "Non-constant expressions cannot be multiplied",
     "output_type": "error",
     "traceback": [
      "\u001b[1;31m---------------------------------------------------------------------------\u001b[0m",
      "\u001b[1;31mTypeError\u001b[0m                                 Traceback (most recent call last)",
      "\u001b[1;32m~\\AppData\\Local\\Temp\\ipykernel_7316\\2412081276.py\u001b[0m in \u001b[0;36m<module>\u001b[1;34m\u001b[0m\n\u001b[0;32m      1\u001b[0m \u001b[1;31m# Objective Function\u001b[0m\u001b[1;33m\u001b[0m\u001b[1;33m\u001b[0m\u001b[0m\n\u001b[1;32m----> 2\u001b[1;33m \u001b[0mmodel\u001b[0m \u001b[1;33m+=\u001b[0m \u001b[0mlpSum\u001b[0m\u001b[1;33m(\u001b[0m\u001b[0mU_i_j\u001b[0m\u001b[1;33m*\u001b[0m\u001b[0mVol_i_j\u001b[0m\u001b[1;33m*\u001b[0m\u001b[1;33m(\u001b[0m\u001b[0mF_i_j\u001b[0m \u001b[1;33m-\u001b[0m \u001b[1;36m2\u001b[0m\u001b[1;33m*\u001b[0m\u001b[0mF_z\u001b[0m\u001b[1;33m)\u001b[0m\u001b[1;33m)\u001b[0m \u001b[1;33m-\u001b[0m \u001b[0mlpSum\u001b[0m\u001b[1;33m(\u001b[0m\u001b[0mX_i_j\u001b[0m\u001b[1;33m*\u001b[0m\u001b[1;33m(\u001b[0m\u001b[1;33m(\u001b[0m\u001b[0mE\u001b[0m \u001b[1;33m+\u001b[0m \u001b[1;36m3.17\u001b[0m\u001b[1;33m*\u001b[0m\u001b[0mD\u001b[0m\u001b[1;33m)\u001b[0m\u001b[1;33m*\u001b[0m\u001b[0mdis_i_j\u001b[0m\u001b[1;33m*\u001b[0m\u001b[0mk\u001b[0m\u001b[1;33m*\u001b[0m\u001b[0mv\u001b[0m\u001b[1;33m*\u001b[0m\u001b[0mv\u001b[0m\u001b[1;33m*\u001b[0m\u001b[1;36m0.04167\u001b[0m \u001b[1;33m+\u001b[0m \u001b[0mT\u001b[0m\u001b[1;33m)\u001b[0m\u001b[1;33m)\u001b[0m \u001b[1;33m-\u001b[0m \u001b[0mlpSum\u001b[0m\u001b[1;33m(\u001b[0m\u001b[1;33m(\u001b[0m\u001b[1;36m1\u001b[0m \u001b[1;33m-\u001b[0m \u001b[0mu_i_j\u001b[0m\u001b[1;33m)\u001b[0m\u001b[1;33m*\u001b[0m\u001b[0mtheta\u001b[0m\u001b[1;33m*\u001b[0m\u001b[0mde_i_j\u001b[0m\u001b[1;33m*\u001b[0m\u001b[0mf_i_j\u001b[0m\u001b[1;33m)\u001b[0m \u001b[1;33m-\u001b[0m \u001b[0mlpsum\u001b[0m\u001b[1;33m(\u001b[0m\u001b[1;33m(\u001b[0m\u001b[0mu_i_j\u001b[0m\u001b[1;33m*\u001b[0m\u001b[0mvol_i_j\u001b[0m\u001b[1;33m*\u001b[0m\u001b[0mF_s\u001b[0m\u001b[1;33m)\u001b[0m\u001b[1;33m/\u001b[0m\u001b[1;33m(\u001b[0m\u001b[1;36m12\u001b[0m\u001b[1;33m*\u001b[0m\u001b[0mV_z\u001b[0m\u001b[1;33m)\u001b[0m\u001b[1;33m)\u001b[0m\u001b[1;33m\u001b[0m\u001b[1;33m\u001b[0m\u001b[0m\n\u001b[0m",
      "\u001b[1;32m~\\anaconda3\\lib\\site-packages\\pulp\\pulp.py\u001b[0m in \u001b[0;36m__mul__\u001b[1;34m(self, other)\u001b[0m\n\u001b[0;32m    207\u001b[0m \u001b[1;33m\u001b[0m\u001b[0m\n\u001b[0;32m    208\u001b[0m     \u001b[1;32mdef\u001b[0m \u001b[0m__mul__\u001b[0m\u001b[1;33m(\u001b[0m\u001b[0mself\u001b[0m\u001b[1;33m,\u001b[0m \u001b[0mother\u001b[0m\u001b[1;33m)\u001b[0m\u001b[1;33m:\u001b[0m\u001b[1;33m\u001b[0m\u001b[1;33m\u001b[0m\u001b[0m\n\u001b[1;32m--> 209\u001b[1;33m         \u001b[1;32mreturn\u001b[0m \u001b[0mLpAffineExpression\u001b[0m\u001b[1;33m(\u001b[0m\u001b[0mself\u001b[0m\u001b[1;33m)\u001b[0m \u001b[1;33m*\u001b[0m \u001b[0mother\u001b[0m\u001b[1;33m\u001b[0m\u001b[1;33m\u001b[0m\u001b[0m\n\u001b[0m\u001b[0;32m    210\u001b[0m \u001b[1;33m\u001b[0m\u001b[0m\n\u001b[0;32m    211\u001b[0m     \u001b[1;32mdef\u001b[0m \u001b[0m__rmul__\u001b[0m\u001b[1;33m(\u001b[0m\u001b[0mself\u001b[0m\u001b[1;33m,\u001b[0m \u001b[0mother\u001b[0m\u001b[1;33m)\u001b[0m\u001b[1;33m:\u001b[0m\u001b[1;33m\u001b[0m\u001b[1;33m\u001b[0m\u001b[0m\n",
      "\u001b[1;32m~\\anaconda3\\lib\\site-packages\\pulp\\pulp.py\u001b[0m in \u001b[0;36m__mul__\u001b[1;34m(self, other)\u001b[0m\n\u001b[0;32m    967\u001b[0m                         \u001b[0me\u001b[0m\u001b[1;33m[\u001b[0m\u001b[0mv\u001b[0m\u001b[1;33m]\u001b[0m \u001b[1;33m=\u001b[0m \u001b[0mc\u001b[0m \u001b[1;33m*\u001b[0m \u001b[0mx\u001b[0m\u001b[1;33m\u001b[0m\u001b[1;33m\u001b[0m\u001b[0m\n\u001b[0;32m    968\u001b[0m         \u001b[1;32melif\u001b[0m \u001b[0misinstance\u001b[0m\u001b[1;33m(\u001b[0m\u001b[0mother\u001b[0m\u001b[1;33m,\u001b[0m \u001b[0mLpVariable\u001b[0m\u001b[1;33m)\u001b[0m\u001b[1;33m:\u001b[0m\u001b[1;33m\u001b[0m\u001b[1;33m\u001b[0m\u001b[0m\n\u001b[1;32m--> 969\u001b[1;33m             \u001b[1;32mreturn\u001b[0m \u001b[0mself\u001b[0m \u001b[1;33m*\u001b[0m \u001b[0mLpAffineExpression\u001b[0m\u001b[1;33m(\u001b[0m\u001b[0mother\u001b[0m\u001b[1;33m)\u001b[0m\u001b[1;33m\u001b[0m\u001b[1;33m\u001b[0m\u001b[0m\n\u001b[0m\u001b[0;32m    970\u001b[0m         \u001b[1;32melse\u001b[0m\u001b[1;33m:\u001b[0m\u001b[1;33m\u001b[0m\u001b[1;33m\u001b[0m\u001b[0m\n\u001b[0;32m    971\u001b[0m             \u001b[1;32mif\u001b[0m \u001b[0mother\u001b[0m \u001b[1;33m!=\u001b[0m \u001b[1;36m0\u001b[0m\u001b[1;33m:\u001b[0m\u001b[1;33m\u001b[0m\u001b[1;33m\u001b[0m\u001b[0m\n",
      "\u001b[1;32m~\\anaconda3\\lib\\site-packages\\pulp\\pulp.py\u001b[0m in \u001b[0;36m__mul__\u001b[1;34m(self, other)\u001b[0m\n\u001b[0;32m    955\u001b[0m             \u001b[1;32mif\u001b[0m \u001b[0mlen\u001b[0m\u001b[1;33m(\u001b[0m\u001b[0mother\u001b[0m\u001b[1;33m)\u001b[0m\u001b[1;33m:\u001b[0m\u001b[1;33m\u001b[0m\u001b[1;33m\u001b[0m\u001b[0m\n\u001b[0;32m    956\u001b[0m                 \u001b[1;32mif\u001b[0m \u001b[0mlen\u001b[0m\u001b[1;33m(\u001b[0m\u001b[0mself\u001b[0m\u001b[1;33m)\u001b[0m\u001b[1;33m:\u001b[0m\u001b[1;33m\u001b[0m\u001b[1;33m\u001b[0m\u001b[0m\n\u001b[1;32m--> 957\u001b[1;33m                     \u001b[1;32mraise\u001b[0m \u001b[0mTypeError\u001b[0m\u001b[1;33m(\u001b[0m\u001b[1;34m\"Non-constant expressions cannot be multiplied\"\u001b[0m\u001b[1;33m)\u001b[0m\u001b[1;33m\u001b[0m\u001b[1;33m\u001b[0m\u001b[0m\n\u001b[0m\u001b[0;32m    958\u001b[0m                 \u001b[1;32melse\u001b[0m\u001b[1;33m:\u001b[0m\u001b[1;33m\u001b[0m\u001b[1;33m\u001b[0m\u001b[0m\n\u001b[0;32m    959\u001b[0m                     \u001b[0mc\u001b[0m \u001b[1;33m=\u001b[0m \u001b[0mself\u001b[0m\u001b[1;33m.\u001b[0m\u001b[0mconstant\u001b[0m\u001b[1;33m\u001b[0m\u001b[1;33m\u001b[0m\u001b[0m\n",
      "\u001b[1;31mTypeError\u001b[0m: Non-constant expressions cannot be multiplied"
     ]
    }
   ],
   "source": [
    "# Objective Function\n",
    "model += lpSum(U_i_j*Vol_i_j*(F_i_j - 2*F_z)) - lpSum(X_i_j*((E + 3.17*D)*dis_i_j*k*v*v*0.04167 + T)) - lpSum((1 - u_i_j)*theta*de_i_j*f_i_j) - lpsum((u_i_j*vol_i_j*F_s)/(12*V_z))"
   ]
  },
  {
   "cell_type": "code",
   "execution_count": null,
   "id": "75389132",
   "metadata": {},
   "outputs": [],
   "source": [
    "# Contraint Functions "
   ]
  }
 ],
 "metadata": {
  "kernelspec": {
   "display_name": "Python 3 (ipykernel)",
   "language": "python",
   "name": "python3"
  },
  "language_info": {
   "codemirror_mode": {
    "name": "ipython",
    "version": 3
   },
   "file_extension": ".py",
   "mimetype": "text/x-python",
   "name": "python",
   "nbconvert_exporter": "python",
   "pygments_lexer": "ipython3",
   "version": "3.9.13"
  }
 },
 "nbformat": 4,
 "nbformat_minor": 5
}
